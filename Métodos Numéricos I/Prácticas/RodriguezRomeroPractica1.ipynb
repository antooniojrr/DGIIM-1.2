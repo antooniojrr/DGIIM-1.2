{
 "cells": [
  {
   "cell_type": "markdown",
   "id": "fb9d63f9",
   "metadata": {},
   "source": [
    "**Ejercicio 1**: Escribe una función que resuelva por sustitución progresiva un sistema en el que la matriz de coeficientes es triangular inferior. Comprueba que se obtiene el mismo resultado utilizando dicha función que mediante la función `solve` de Numpy si lo aplicamos a las matrices \n",
    "$$A=\\left(\\begin{array}{rrr}\n",
    "1 & 0 & 0 \\\\\n",
    "2 & 2 & 0 \\\\\n",
    "3 & 1 & 5 \\end{array} \\right) \\qquad b=\\left(2,5,1 \\right) $$."
   ]
  },
  {
   "cell_type": "code",
   "execution_count": 2,
   "id": "19a51cab",
   "metadata": {},
   "outputs": [],
   "source": [
    "import numpy as np"
   ]
  },
  {
   "cell_type": "code",
   "execution_count": 3,
   "id": "d5010bd3",
   "metadata": {},
   "outputs": [],
   "source": [
    "def sust_progresiva(A,b):\n",
    "    \"\"\"\n",
    "    Esta función resuelve el sistema Ax=b mediante sustitución progresiva. \n",
    "    A y b deben ser arrays de numpy. \n",
    "    A debe ser una matriz triangular inferior.\n",
    "    \"\"\"\n",
    "    A=A.astype(float)     # cambiamos los elementos a tipo flotante\n",
    "    b=b.astype(float) \n",
    "    n=np.size(b)\n",
    "    x=np.zeros(n)         # almacenaremos aquí la solución del sistema                  \n",
    "    # ahora se resuelve el sistema por sustitución regresiva\n",
    "    x[0]=b[0]/A[0,0]\n",
    "    for i in range(1,n):\n",
    "        restar = 0\n",
    "        for j in range(0,i):\n",
    "            restar += (x[j]*A[i,j])\n",
    "        x[i]=(b[i]- restar)/A[i,i]\n",
    "                \n",
    "    return x"
   ]
  },
  {
   "cell_type": "code",
   "execution_count": 4,
   "id": "7b87dddc",
   "metadata": {},
   "outputs": [
    {
     "name": "stdout",
     "output_type": "stream",
     "text": [
      "Solucion de NumPy: [ 2.   0.5 -1.1] | Solucion de mi funcion: [ 2.   0.5 -1.1]\n"
     ]
    }
   ],
   "source": [
    "A=np.array([[1,0,0],[2,2,0],[3,1,5]])\n",
    "b=np.array([2,5,1])\n",
    "print(\"Solucion de NumPy:\",np.linalg.solve(A,b),\"| Solucion de mi funcion:\", sust_progresiva(A,b) ) "
   ]
  },
  {
   "cell_type": "markdown",
   "id": "f8c13871",
   "metadata": {},
   "source": [
    "**Ejercicio 2:** Modifica el código anterior para que resuelva SEL usando pivotaje parcial. Comprueba que el código funciona correctamente con las mismas matrices $A$ y $b$ del ejemplo anterior."
   ]
  },
  {
   "cell_type": "code",
   "execution_count": 5,
   "id": "33dee045",
   "metadata": {},
   "outputs": [],
   "source": [
    "# Añadida para que funcione el método Gauss2\n",
    "def sust_regresiva(A,b):\n",
    "    \"\"\"\n",
    "    Esta función resuelve el sistema Ax=b mediante sustitución regresiva. \n",
    "    A y b deben ser arrays de numpy. \n",
    "    A debe ser una matriz triangular superior.\n",
    "    \"\"\"\n",
    "    A=A.astype(float)     # cambiamos los elementos a tipo flotante\n",
    "    b=b.astype(float) \n",
    "    n=np.size(b)\n",
    "    x=np.zeros(n)         # almacenaremos aquí la solución del sistema\n",
    "                       \n",
    "    # ahora se resuelve el sistema por sustitución regresiva\n",
    "    x[n-1]=b[n-1]/A[n-1,n-1]\n",
    "    for i in range(n-2,-1,-1):     \n",
    "        x[i]=(b[i]-np.dot(A[i][i+1:],x[i+1:]))/A[i,i]\n",
    "                \n",
    "    return x"
   ]
  },
  {
   "cell_type": "code",
   "execution_count": 8,
   "id": "c5319db8",
   "metadata": {},
   "outputs": [],
   "source": [
    "def Gauss2(A,b):\n",
    "    \"\"\"\n",
    "    Esta función resuelve el sistema Ax=b mediante el método de Gauss. \n",
    "    A y b deben ser arrays de numpy.\n",
    "    \"\"\"\n",
    "    A=A.astype(float)     # cambiamos los elementos a tipo flotante\n",
    "    bb=(np.array([b]).transpose()).astype(float) \n",
    "    Ab=np.concatenate((A,bb),axis=1)\n",
    "    n=np.size(b)\n",
    "       \n",
    "    # aquí se hacen operaciones por filas en la matriz para conseguir una triangular\n",
    "    # se seguirá el métododo de pivote parcial, por el cual buscaré el más adecuado de entre el resto de elementos de la columna\n",
    "    for i in range(n):\n",
    "        maximo = i\n",
    "        for k in range(i,n):\n",
    "            if Ab[k,i] > Ab[maximo,i]:\n",
    "                maximo = k\n",
    "        Ab[[i,maximo], :] = Ab[[maximo,i], :]\n",
    "        if Ab[i,i]==0: sys.exit('Aparece una división por cero, el proceso no puede concluirse')\n",
    "        else:\n",
    "            for j in range(i+1,n):\n",
    "                m=Ab[j,i]/Ab[i,i]\n",
    "                Ab[j]=Ab[j]-m*Ab[i]\n",
    "                    \n",
    "    # ahora se resuelve el sistema por sustitución regresiva\n",
    "    AG=Ab[:,:n]\n",
    "    bG=Ab[:,n].transpose()\n",
    "    x=sust_regresiva(AG,bG)\n",
    "                \n",
    "    return x"
   ]
  },
  {
   "cell_type": "code",
   "execution_count": 9,
   "id": "87b87619",
   "metadata": {},
   "outputs": [
    {
     "name": "stdout",
     "output_type": "stream",
     "text": [
      "Mi función (Con pivote parcial): [ 2.   0.5 -1.1] | Funcion NumPy: [ 2.   0.5 -1.1]\n"
     ]
    }
   ],
   "source": [
    "A=np.array([[1,0,0],[2,2,0],[3,1,5]])\n",
    "b=np.array([2,5,1])\n",
    "print(\"Mi función (Con pivote parcial):\", Gauss2(A,b), \"| Funcion NumPy:\", np.linalg.solve(A,b) )"
   ]
  }
 ],
 "metadata": {
  "kernelspec": {
   "display_name": "Python 3 (ipykernel)",
   "language": "python",
   "name": "python3"
  },
  "language_info": {
   "codemirror_mode": {
    "name": "ipython",
    "version": 3
   },
   "file_extension": ".py",
   "mimetype": "text/x-python",
   "name": "python",
   "nbconvert_exporter": "python",
   "pygments_lexer": "ipython3",
   "version": "3.9.7"
  }
 },
 "nbformat": 4,
 "nbformat_minor": 5
}
