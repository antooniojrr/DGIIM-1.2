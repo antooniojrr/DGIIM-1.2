{
 "cells": [
  {
   "cell_type": "markdown",
   "id": "b3d7ef32",
   "metadata": {},
   "source": [
    "## Práctica 4: Interpolación.\n",
    "Alfredo de Federico Ramos y David Kessler Martínez"
   ]
  },
  {
   "cell_type": "code",
   "execution_count": 69,
   "id": "76ded8e2",
   "metadata": {},
   "outputs": [],
   "source": [
    "import numpy as np"
   ]
  },
  {
   "cell_type": "code",
   "execution_count": 70,
   "id": "91615571",
   "metadata": {},
   "outputs": [],
   "source": [
    "import matplotlib.pyplot as plt"
   ]
  },
  {
   "cell_type": "code",
   "execution_count": 71,
   "id": "0d341272",
   "metadata": {},
   "outputs": [],
   "source": [
    "\" Función que define la función dada. Recibe el punto en el que será evaluada \"\n",
    "\n",
    "def f(x):\n",
    "    return 1/(1+x*x)"
   ]
  },
  {
   "cell_type": "code",
   "execution_count": 94,
   "id": "d9f14c68",
   "metadata": {},
   "outputs": [],
   "source": [
    "def TablaDiferenciasDivididas (x,y):\n",
    "    \n",
    "    # Cogemos el número de puntos.\n",
    "    n = np.size(x)\n",
    "    \n",
    "    # Y construimos la matriz que almacenará la tabla de diferencias divididas.\n",
    "    T = np.zeros([n,n+1])\n",
    "    \n",
    "    # Y construimos el array que contendrá los coeficientes del polinomio de interpolación.\n",
    "    coeficientes=np.zeros(n)\n",
    "    \n",
    "    # Guardamos en las dos primeras columnas los puntos y sus imágenes.\n",
    "    for i in range (n):\n",
    "        T[i,0] = x[i]\n",
    "        T[i,1] = y[i]\n",
    "    \n",
    "    # Y llevamos a cabo los cálculos.\n",
    "    for k in range (2,n+1):\n",
    "        for j in range (k-1,n):\n",
    "            # Dividimos los cálculos en numerador y denominador para simplificarlo\n",
    "            num=T[j,k-1]-T[j-1,k-1]\n",
    "            den=x[j]-x[j-k+1]\n",
    "            \n",
    "            # Y colocamos la división en la posición de la tabla adecuada.\n",
    "            T[j,k]=num/den\n",
    " \n",
    "    # Guardamos en el array de coeficientes la diagonal adecuada, que es la contiene los coeficientes del polinomio de interpolación.\n",
    "    for q in range(n):\n",
    "        coeficientes[q] = T[q,q+1]\n",
    "    \n",
    "    # Podemos mostrar la tabla de coeficientes descomentando lo siguiente:\n",
    "    # print (T)\n",
    "    \n",
    "    # Y devolvemos este array.\n",
    "    return coeficientes"
   ]
  },
  {
   "cell_type": "code",
   "execution_count": 95,
   "id": "65af8548",
   "metadata": {},
   "outputs": [],
   "source": [
    "\" Función que dados dos listas que contienen los puntos de interpolación y los coeficientes del polinomio de interpolación\"\n",
    "\" de Newton, devuelve el valor del polinomio de interpolación de Newton en un punto dado.\"\n",
    "\n",
    "def PolinomioInterpolaciónNewton(x,coeficientes,punto):\n",
    "    \n",
    "    # Cogemos el número de puntos.\n",
    "    n = np.size(x)\n",
    "    \n",
    "    # E inicializamos la suma\n",
    "    suma = 0\n",
    "    \n",
    "    for i in range (n):\n",
    "        \n",
    "        # El sumando serán los valores de los coeficientes\n",
    "        sumando=coeficientes[i]\n",
    "        \n",
    "        for j in range (i):\n",
    "            # Que se multiplicarán por los anteriores (x-xi), y por el actual.\n",
    "            sumando *= (punto - x[j])\n",
    "        \n",
    "        # Actualizamos la suma\n",
    "        suma += sumando\n",
    "    \n",
    "    # Y devolvemos la suma.\n",
    "    return suma"
   ]
  },
  {
   "cell_type": "code",
   "execution_count": 99,
   "id": "fa8a2448",
   "metadata": {},
   "outputs": [
    {
     "data": {
      "text/plain": [
       "<matplotlib.legend.Legend at 0x1aac7df9fd0>"
      ]
     },
     "execution_count": 99,
     "metadata": {},
     "output_type": "execute_result"
    },
    {
     "data": {
      "image/png": "[encoded data removed]",
      "text/plain": [
       "<Figure size 432x288 with 1 Axes>"
      ]
     },
     "metadata": {
      "needs_background": "light"
     },
     "output_type": "display_data"
    }
   ],
   "source": [
    "# Mostramos la gráfica\n",
    "plt.title(\"Fenómeno de Runge\")\n",
    "\n",
    "# Cogemos puntos desde -5 hasta 5 para dibujar la función inicial.\n",
    "xd = np.linspace(-5.0,5.0,100)\n",
    "\n",
    "# Y calculamos sus imágenes\n",
    "yd = f(xd)    \n",
    "# Presentan un problema de redondeo, pero consideramos que no es significativo.\n",
    "\n",
    "# La mostramos\n",
    "plt.plot (xd, yd, 'r', label = \"f(x)\")\n",
    "\n",
    "# Cogemos 7 puntos equidistantes entre -5 y 5 para el polinomio de grado 6.\n",
    "xp6 = np.linspace (-5.0,5.0,7)\n",
    "\n",
    "# Calculamos lás imágenes\n",
    "yp6 = f(xp6)\n",
    "\n",
    "# Calculamos los coeficientes del polinomio de interpolación dados estos puntos y sus imágenes:\n",
    "coeficientes = TablaDiferenciasDivididas(xp6, yp6)\n",
    "\n",
    "# Y evaluamos en 100 puntos según el polinomio de interpolación de grado 6 para poder dibujarlo.\n",
    "for i in range (100):\n",
    "    yd[i] = (PolinomioInterpolaciónNewton(xp6,coeficientes,xd[i]))\n",
    "\n",
    "# Y la mostramos\n",
    "plt.plot (xd, yd, 'b', label = \"p6\")\n",
    "\n",
    "# Cogemos 15 puntos equidistantes entre -5 y 5 para el polinomio de grado 14.\n",
    "xp14 = np.linspace (-5.0,5.0,15)\n",
    "\n",
    "# Calculamos lás imágenes\n",
    "yp14 = f(xp14)\n",
    "\n",
    "# Calculamos los coeficientes del polinomio de interpolación dados estos puntos y sus imágenes:\n",
    "coeficientes = TablaDiferenciasDivididas(xp14, yp14)\n",
    "\n",
    "# Y evaluamos en 100 puntos según el polinomio de interpolación de grado 14 para poder dibujarlo.\n",
    "for i in range (100):\n",
    "    yd[i] = (PolinomioInterpolaciónNewton(xp14,coeficientes,xd[i]))\n",
    "\n",
    "# Y la mostramos\n",
    "plt.plot (xd, yd, 'y', label = \"p14\")\n",
    "\n",
    "# Vamos a limitar los ejes para que la gráfica muestre exactamente lo que la imagen pedida.\n",
    "\n",
    "plt.ylim(-1,2)\n",
    "plt.xlim(-5.1,5.1)\n",
    "\n",
    "plt.legend() # La leyenda\n"
   ]
  }
 ],
 "metadata": {
  "kernelspec": {
   "display_name": "Python 3 (ipykernel)",
   "language": "python",
   "name": "python3"
  },
  "language_info": {
   "codemirror_mode": {
    "name": "ipython",
    "version": 3
   },
   "file_extension": ".py",
   "mimetype": "text/x-python",
   "name": "python",
   "nbconvert_exporter": "python",
   "pygments_lexer": "ipython3",
   "version": "3.9.7"
  }
 },
 "nbformat": 4,
 "nbformat_minor": 5
}
