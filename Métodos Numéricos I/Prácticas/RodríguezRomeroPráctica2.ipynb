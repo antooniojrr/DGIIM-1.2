{
 "cells": [
  {
   "cell_type": "markdown",
   "id": "8d74c1c6",
   "metadata": {},
   "source": [
    "**Ejercicio 1:** Utilizando la descomposición LU de esta práctica y las sustituciones progresiva y regresiva de la práctica anterior, resuelve el sistema $A x=b$ donde\n",
    "$$A=\\left(\\begin{array}{rrr}\n",
    "1 & 4 & 1 \\\\\n",
    "1 & 3 & 5 \\\\\n",
    "-2 & 0 & 1 \\end{array} \\right) \\qquad b=\\left(2,-5,1 \\right) $$ "
   ]
  },
  {
   "cell_type": "code",
   "execution_count": 5,
   "id": "1f68af8e",
   "metadata": {},
   "outputs": [],
   "source": [
    "import math\n",
    "import numpy as np\n",
    "# Primero copiaré la función de sustitución progresiva y regresiva de la práctica anterior\n",
    "def sust_progresiva(A,b):\n",
    "    \"\"\"\n",
    "    Esta función resuelve el sistema Ax=b mediante sustitución progresiva. \n",
    "    A y b deben ser arrays de numpy. \n",
    "    A debe ser una matriz triangular inferior.\n",
    "    \"\"\"\n",
    "    A=A.astype(float)     # cambiamos los elementos a tipo flotante\n",
    "    b=b.astype(float) \n",
    "    n=np.size(b)\n",
    "    x=np.zeros(n)         # almacenaremos aquí la solución del sistema                  \n",
    "    # ahora se resuelve el sistema por sustitución regresiva\n",
    "    x[0]=b[0]/A[0,0]\n",
    "    for i in range(1,n):\n",
    "        restar = 0\n",
    "        for j in range(0,i):\n",
    "            restar += (x[j]*A[i,j])\n",
    "        x[i]=(b[i]- restar)/A[i,i]\n",
    "                \n",
    "    return x\n",
    "\n",
    "def sust_regresiva(A,b):\n",
    "    \"\"\"\n",
    "    Esta función resuelve el sistema Ax=b mediante sustitución regresiva. \n",
    "    A y b deben ser arrays de numpy. \n",
    "    A debe ser una matriz triangular superior.\n",
    "    \"\"\"\n",
    "    A=A.astype(float)     # cambiamos los elementos a tipo flotante\n",
    "    b=b.astype(float) \n",
    "    n=np.size(b)\n",
    "    x=np.zeros(n)         # almacenaremos aquí la solución del sistema\n",
    "                       \n",
    "    # ahora se resuelve el sistema por sustitución regresiva\n",
    "    x[n-1]=b[n-1]/A[n-1,n-1]\n",
    "    for i in range(n-2,-1,-1):     \n",
    "        x[i]=(b[i]-np.dot(A[i][i+1:],x[i+1:]))/A[i,i]\n",
    "                \n",
    "    return x"
   ]
  },
  {
   "cell_type": "code",
   "execution_count": 6,
   "id": "501ba6fa",
   "metadata": {},
   "outputs": [],
   "source": [
    "def LU_desc(A):\n",
    "    \"\"\"\n",
    "    Esta función calcula la descomposición LU de Doolittle de una matriz A sin intercambio de filas.\n",
    "    A debe ser un array de Numpy.\n",
    "    \"\"\"\n",
    "    n=np.shape(A)[1]\n",
    "    U=np.zeros([n,n])\n",
    "    L=np.eye(n)\n",
    "    \n",
    "    for k in range(n-1):\n",
    "        U[k,k]=A[k,k]-np.dot(L[k,:k],U[:k,k])\n",
    "        for j in range(k+1,n):\n",
    "            U[k,j]=A[k,j]-np.dot(L[k,:k],U[:k,j])\n",
    "        for j in range(k+1):\n",
    "            L[k+1,j]=(A[k+1,j]-np.dot(L[k+1,:j],U[:j,j]))/U[j,j]\n",
    "    U[n-1,n-1]=A[n-1,n-1]-np.dot(L[n-1,:n-1],U[:n-1,n-1])\n",
    "    return L, U"
   ]
  },
  {
   "cell_type": "code",
   "execution_count": 8,
   "id": "4e3ed3a6",
   "metadata": {},
   "outputs": [
    {
     "name": "stdout",
     "output_type": "stream",
     "text": [
      "Solución = [-1.22857143  1.17142857 -1.45714286]\n",
      "Comprobación = [-1.22857143  1.17142857 -1.45714286]\n"
     ]
    }
   ],
   "source": [
    "A = np.array([[1,4,1],[1,3,5],[-2,0,1]])\n",
    "b = np.array([2,-5,1])\n",
    "L,U = LU_desc(A)\n",
    "y = sust_progresiva(L,b)\n",
    "x = sust_regresiva(U,y)\n",
    "\n",
    "print(\"Solución =\", x)\n",
    "print(\"Comprobación =\", np.linalg.solve(A,b))"
   ]
  },
  {
   "cell_type": "markdown",
   "id": "ff45ee77",
   "metadata": {},
   "source": [
    "**Ejercicio 2:** Define una función que resuelva un sistema de ecuaciones lineales mediante la factorización de Cholesky. Comprueba su funcionamiento para intentar resolver el sistema $A x=b$ donde $b=\\left(2,-5,1 \\right)$ en los casos de los ejemplos anteriores:\n",
    "$$A=\\left(\\begin{array}{rrr}\n",
    "2 & 4 & 1 \\\\\n",
    "4 & 10 & 1 \\\\\n",
    "1 & 1 & 5 \\end{array} \\right) \\qquad \n",
    "A=\\left(\\begin{array}{rrr}\n",
    "2 & 4 & 1 \\\\\n",
    "4 & 0 & 1 \\\\\n",
    "1 & 1 & 5 \\end{array} \\right)$$ \n",
    "\n",
    "**No** se permite utilizar la función `linalg.cholesky`de `NumPy`. Hay que modificar el código anterior de la factorización LU para definir una función que haga dicha factorización.\n"
   ]
  },
  {
   "cell_type": "code",
   "execution_count": 39,
   "id": "6ccb10bb",
   "metadata": {},
   "outputs": [],
   "source": [
    "\n",
    "def CHOL_desc(A):\n",
    "    \"\"\"\n",
    "    Esta función calcula la descomposición Cholesky de una matriz A sin intercambio de filas.\n",
    "    A debe ser un array de Numpy, una matriz simétrica y definida positiva.\n",
    "    \"\"\"\n",
    "    n=np.shape(A)[1]\n",
    "    L=np.zeros([n,n])\n",
    "    \n",
    "    for i in range(n):\n",
    "        for j in range(i+1):\n",
    "            suma=0\n",
    "            if (j==i):\n",
    "                for k in range(j+1):\n",
    "                    suma += pow(L[j,k], 2)\n",
    "                if ( suma <= A[j,j]):\n",
    "                    L[j,j] = math.sqrt(A[j,j]-suma)\n",
    "                else: print(\"ERROR: matriz no definida positiva, descomposición fallida\"); return np.zeros([n,n])\n",
    "            else:\n",
    "                for k in range(j+1):\n",
    "                    suma += L[i,k]*L[j,k]\n",
    "                L[i,j] = (A[i,j]-suma)/L[j,j]\n",
    "                \n",
    "    return L\n"
   ]
  },
  {
   "cell_type": "code",
   "execution_count": 40,
   "id": "e5d85290",
   "metadata": {},
   "outputs": [
    {
     "name": "stdout",
     "output_type": "stream",
     "text": [
      "Solución = [11.6875 -5.0625 -1.125 ]\n",
      "Comprobación = [11.6875 -5.0625 -1.125 ]\n"
     ]
    }
   ],
   "source": [
    "A=np.array([[2,4,1],[4,10,1],[1,1,5]])\n",
    "b=np.array([2,-5,1])\n",
    "\n",
    "L=CHOL_desc(A)\n",
    "\n",
    "y=sust_progresiva(L,b)\n",
    "x=sust_regresiva(np.transpose(L),y)\n",
    "print(\"Solución =\", x)\n",
    "print(\"Comprobación =\", np.linalg.solve(A,b))\n",
    "\n"
   ]
  },
  {
   "cell_type": "code",
   "execution_count": 41,
   "id": "4a6fe2c6",
   "metadata": {},
   "outputs": [
    {
     "name": "stdout",
     "output_type": "stream",
     "text": [
      "ERROR: matriz no definida positiva, descomposición fallida\n"
     ]
    }
   ],
   "source": [
    "A=np.array([[2,4,1],[4,0,1],[1,1,5]])\n",
    "b=np.array([2,-5,1])\n",
    "\n",
    "L=CHOL_desc(A)\n",
    "n=np.shape(A)[1]\n",
    "if (L.any()!=0):\n",
    "    y=sust_progresiva(L,b)\n",
    "    x=sust_regresiva(np.transpose(L),y)\n",
    "    print(\"Solución =\", x)\n",
    "    print(\"Comprobación =\", np.linalg.solve(A,b))\n"
   ]
  },
  {
   "cell_type": "code",
   "execution_count": null,
   "id": "aa1ad042",
   "metadata": {},
   "outputs": [],
   "source": []
  }
 ],
 "metadata": {
  "kernelspec": {
   "display_name": "Python 3 (ipykernel)",
   "language": "python",
   "name": "python3"
  },
  "language_info": {
   "codemirror_mode": {
    "name": "ipython",
    "version": 3
   },
   "file_extension": ".py",
   "mimetype": "text/x-python",
   "name": "python",
   "nbconvert_exporter": "python",
   "pygments_lexer": "ipython3",
   "version": "3.9.7"
  }
 },
 "nbformat": 4,
 "nbformat_minor": 5
}
