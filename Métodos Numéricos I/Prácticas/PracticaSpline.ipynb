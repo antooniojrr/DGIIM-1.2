{
 "cells": [
  {
   "cell_type": "markdown",
   "id": "2c249a75",
   "metadata": {},
   "source": [
    "05/2022"
   ]
  },
  {
   "cell_type": "markdown",
   "id": "4453392e",
   "metadata": {},
   "source": [
    "## Práctica de Splines"
   ]
  },
  {
   "cell_type": "markdown",
   "id": "89b83c85",
   "metadata": {},
   "source": [
    "Isabel Morro Tabares y Francisca Morales Castellón"
   ]
  },
  {
   "cell_type": "code",
   "execution_count": 1,
   "id": "06a27860",
   "metadata": {},
   "outputs": [],
   "source": [
    "import numpy as np\n",
    "import matplotlib.pyplot as plt"
   ]
  },
  {
   "cell_type": "code",
   "execution_count": 2,
   "id": "a61810ca",
   "metadata": {},
   "outputs": [],
   "source": [
    "def SplineNatural (x, y): \n",
    "    \n",
    "    \"Devuelve la matriz 4xn de los coeficientes del polinomio\"\n",
    "    \n",
    "    n = len(x)\n",
    "    A=np.zeros([n,n])\n",
    "    b = np.zeros(n) \n",
    "    h = np.zeros(n-1)\n",
    "    pendiente = np.zeros(n-1)\n",
    "    d = np.zeros(n)\n",
    "    spline = np.zeros([n-1,4]) \n",
    "    \n",
    "    pos=n-1\n",
    "    \n",
    "    # Cálculo de las longitudes\n",
    "    for i in range (0, n-1):\n",
    "        h[i] = x[i+1]-x[i]\n",
    "        pendiente[i] = (y[i+1] - y[i]) / h[i] \n",
    "    \n",
    "    print (h)\n",
    "    print (pendiente)\n",
    "    \n",
    "    # Creamos matriz de coeficientes    \n",
    "    A[0][0] = 2/h[0]\n",
    "    A[0][1] = 1/h[0]\n",
    "    \n",
    "    for j in range (1,pos):\n",
    "        \n",
    "        A[j][j] = 2*((1/h[j])+(1/h[j-1]))\n",
    "        A[j][j-1] = 1/h[j-1]\n",
    "        A[j][j+1] = 1/h[j]\n",
    "    \n",
    "    A[pos][pos] = 2/h[pos-1]\n",
    "    A[pos][pos-1] = 1/h[pos-1]\n",
    "    \n",
    "    print (A)\n",
    "    \n",
    "    # Creamos términos independientes\n",
    "    b[0] = pendiente[0] / h[0]\n",
    "    b[n-1] = pendiente[n-2] / h[n-2]\n",
    "    \n",
    "    for k in range (1,n-1):\n",
    "        b[k] = (pendiente[k] / h[k]) + (pendiente [k-1]/ h[k-1])\n",
    "    b = 3*b\n",
    "    \n",
    "    print (b)\n",
    "    \n",
    "    # Obtenemos las derivadas\n",
    "    d = np.linalg.solve(A,b)\n",
    "    \n",
    "    print (d)\n",
    "    \n",
    "   # Calculamos polinomios\n",
    "    for i in range (0,n-1) : \n",
    "        spline [i][0] = y[i]\n",
    "        spline [i][1] = d[i]\n",
    "        spline [i][2] = (pendiente[i]-d[i])/h[i]\n",
    "        spline [i][3] = ((d[i]+d[i+1])-2*pendiente[i])/(h[i]**2)\n",
    "        \n",
    "    return spline"
   ]
  },
  {
   "cell_type": "code",
   "execution_count": 110,
   "id": "97b8f38a",
   "metadata": {},
   "outputs": [],
   "source": [
    "def plotspline (x,y, color):\n",
    "    \n",
    "    t = np.arange (0,len(x),1)\n",
    "    \n",
    "    sx = SplineNatural (t,x)\n",
    "    sy = SplineNatural (t,y)\n",
    "    \n",
    "    print (sx)\n",
    "    print (sy)\n",
    "    \n",
    "    p = np.arange (0,len(t), 0.1)\n",
    "    \n",
    "    _x = np.zeros (len(p))\n",
    "    _y = np.zeros (len(p))\n",
    "    \n",
    "    k=0\n",
    "    for i in range (0,len(t)-1):\n",
    "        for j in range (0, len(p)-1):\n",
    "            if (t[i] < p[j] and p[j] < t[i+1]):\n",
    "                _x[k] = sx[i][0] + sx[i][1]*(p[i]-x[i])+sx[i][2]*(p[i]-x[i])**2+sx[i][3]*(p[i]-x[i]**2)*(p[i]-x[i+1])\n",
    "                _y[k] = sy[i][0] + sy[i][1]*(p[i]-y[i])+sy[i][2]*(p[i]-y[i])**2+sy[i][3]*(p[i]-y[i]**2)*(p[i]-y[i+1])\n",
    "                k+=1\n",
    "    print (_x)\n",
    "    print (_y)\n",
    "    \n",
    "    plt.plot(_x, _y,color)"
   ]
  },
  {
   "cell_type": "code",
   "execution_count": 111,
   "id": "39b619d5",
   "metadata": {
    "scrolled": true
   },
   "outputs": [
    {
     "name": "stdout",
     "output_type": "stream",
     "text": [
      "[1. 1. 1. 1. 1.]\n",
      "[0.2 0.3 0.5 1.  0.5]\n",
      "[[2. 1. 0. 0. 0. 0.]\n",
      " [1. 4. 1. 0. 0. 0.]\n",
      " [0. 1. 4. 1. 0. 0.]\n",
      " [0. 0. 1. 4. 1. 0.]\n",
      " [0. 0. 0. 1. 4. 1.]\n",
      " [0. 0. 0. 0. 1. 2.]]\n",
      "[0.6 1.5 2.4 4.5 4.5 1.5]\n",
      "[0.17559809 0.24880383 0.3291866  0.83444976 0.83301435 0.33349282]\n",
      "[[ 1.          0.17559809  0.02440191  0.02440191]\n",
      " [ 1.2         0.24880383  0.05119617 -0.02200957]\n",
      " [ 1.5         0.3291866   0.1708134   0.16363636]\n",
      " [ 2.          0.83444976  0.16555024 -0.33253589]\n",
      " [ 3.          0.83301435 -0.33301435  0.16650718]]\n",
      "[1. 1. 1. 1. 1.]\n",
      "[0.5  0.5  0.25 0.25 0.5 ]\n",
      "[[2. 1. 0. 0. 0. 0.]\n",
      " [1. 4. 1. 0. 0. 0.]\n",
      " [0. 1. 4. 1. 0. 0.]\n",
      " [0. 0. 1. 4. 1. 0.]\n",
      " [0. 0. 0. 1. 4. 1.]\n",
      " [0. 0. 0. 0. 1. 2.]]\n",
      "[1.5  3.   2.25 1.5  2.25 1.5 ]\n",
      "[0.48325359 0.53349282 0.38277512 0.1854067  0.37559809 0.56220096]\n",
      "[[ 2.          0.48325359  0.01674641  0.01674641]\n",
      " [ 2.5         0.53349282 -0.03349282 -0.08373206]\n",
      " [ 3.          0.38277512 -0.13277512  0.06818182]\n",
      " [ 3.25        0.1854067   0.0645933   0.06100478]\n",
      " [ 3.5         0.37559809  0.12440191 -0.06220096]]\n",
      "[[ 1.          0.17559809  0.02440191  0.02440191]\n",
      " [ 1.2         0.24880383  0.05119617 -0.02200957]\n",
      " [ 1.5         0.3291866   0.1708134   0.16363636]\n",
      " [ 2.          0.83444976  0.16555024 -0.33253589]\n",
      " [ 3.          0.83301435 -0.33301435  0.16650718]]\n",
      "[[ 2.          0.48325359  0.01674641  0.01674641]\n",
      " [ 2.5         0.53349282 -0.03349282 -0.08373206]\n",
      " [ 3.          0.38277512 -0.13277512  0.06818182]\n",
      " [ 3.25        0.1854067   0.0645933   0.06100478]\n",
      " [ 3.5         0.37559809  0.12440191 -0.06220096]]\n",
      "[ 0.87808612  0.87808612  0.87808612  0.87808612  0.87808612  0.87808612\n",
      "  0.87808612  0.87808612  0.87808612  0.94697321  0.94697321  0.94697321\n",
      "  0.94697321  0.94697321  0.94697321  0.94697321  0.94697321  0.94697321\n",
      "  1.96455024  1.96455024  1.96455024  1.96455024  1.96455024  1.96455024\n",
      "  1.96455024  1.96455024  1.96455024 -2.26215789 -2.26215789 -2.26215789\n",
      " -2.26215789 -2.26215789 -2.26215789 -2.26215789 -2.26215789 -2.26215789\n",
      "  3.02206699  3.02206699  3.02206699  3.02206699  3.02206699  3.02206699\n",
      "  3.02206699  3.02206699  3.02206699  0.          0.          0.\n",
      "  0.          0.          0.          0.          0.          0.\n",
      "  0.          0.          0.          0.          0.          0.        ]\n",
      "[ 1.26794258  1.26794258  1.26794258  1.26794258  1.26794258  1.26794258\n",
      "  1.26794258  1.26794258  1.26794258 -0.46666268 -0.46666268 -0.46666268\n",
      " -0.46666268 -0.46666268 -0.46666268 -0.46666268 -0.46666268 -0.46666268\n",
      "  2.71727273  2.71727273  2.71727273  2.71727273  2.71727273  2.71727273\n",
      "  2.71727273  2.71727273  2.71727273  5.26857057  5.26857057  5.26857057\n",
      "  5.26857057  5.26857057  5.26857057  5.26857057  5.26857057  5.26857057\n",
      "  0.8776555   0.8776555   0.8776555   0.8776555   0.8776555   0.8776555\n",
      "  0.8776555   0.8776555   0.8776555   0.          0.          0.\n",
      "  0.          0.          0.          0.          0.          0.\n",
      "  0.          0.          0.          0.          0.          0.        ]\n"
     ]
    },
    {
     "data": {
      "image/png": "[encoded data removed]",
      "text/plain": [
       "<Figure size 432x288 with 1 Axes>"
      ]
     },
     "metadata": {
      "needs_background": "light"
     },
     "output_type": "display_data"
    }
   ],
   "source": [
    "# Tramo verde\n",
    "ptosx = [1, 1.2, 1.5, 2, 3, 3.5]\n",
    "x = np.array (ptosx)\n",
    "ptosy = [2, 2.5, 3, 3.25, 3.5, 4]\n",
    "y = np.array (ptosy)\n",
    "\n",
    "plotspline (x,y,'r')"
   ]
  },
  {
   "cell_type": "code",
   "execution_count": null,
   "id": "ce7e461e",
   "metadata": {},
   "outputs": [],
   "source": [
    "       #_x[j] = sx[i][0] + sx[i][1]*(t[k]-x[i])+sx[i][2]*(t[k]-x[i])**2+sx[i][3]*(t[k]-x[i]**2)*(t[k]-x[i+1])\n",
    "        #_y[j] = sy[i][0] + sy[i][1]*(t[k]-y[i])+sy[i][2]*(t[k]-y[i])**2+sy[i][3]*(t[k]-y[i]**2)*(t[k]-y[i+1])\n",
    "            #j += 1"
   ]
  }
 ],
 "metadata": {
  "kernelspec": {
   "display_name": "Python 3 (ipykernel)",
   "language": "python",
   "name": "python3"
  },
  "language_info": {
   "codemirror_mode": {
    "name": "ipython",
    "version": 3
   },
   "file_extension": ".py",
   "mimetype": "text/x-python",
   "name": "python",
   "nbconvert_exporter": "python",
   "pygments_lexer": "ipython3",
   "version": "3.9.7"
  }
 },
 "nbformat": 4,
 "nbformat_minor": 5
}
