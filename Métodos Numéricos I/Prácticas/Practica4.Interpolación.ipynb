{
 "cells": [
  {
   "cell_type": "markdown",
   "id": "a5085047",
   "metadata": {},
   "source": [
    "*Práctica de interpolación*"
   ]
  },
  {
   "cell_type": "markdown",
   "id": "d5b309aa",
   "metadata": {},
   "source": [
    "Antonio Javier Rodríguez Romero y Santiago López Cerro"
   ]
  },
  {
   "cell_type": "markdown",
   "id": "f1cec666",
   "metadata": {},
   "source": [
    "Construya un array que contenga un conjunto de n puntos equiespaciados del intervalo [-5,5]."
   ]
  },
  {
   "cell_type": "code",
   "execution_count": 2,
   "id": "bd6df91b",
   "metadata": {},
   "outputs": [],
   "source": [
    "import numpy as np\n",
    "import matplotlib.pyplot as plt"
   ]
  },
  {
   "cell_type": "code",
   "execution_count": 3,
   "id": "cc9edf9c",
   "metadata": {
    "scrolled": true
   },
   "outputs": [
    {
     "data": {
      "text/plain": [
       "array([-5.00000000e+00, -3.33333333e+00, -1.66666667e+00,  8.88178420e-16,\n",
       "        1.66666667e+00,  3.33333333e+00])"
      ]
     },
     "execution_count": 3,
     "metadata": {},
     "output_type": "execute_result"
    }
   ],
   "source": [
    "n=6\n",
    "x=np.arange(-5,5,10/n)\n",
    "x"
   ]
  },
  {
   "cell_type": "markdown",
   "id": "211811af",
   "metadata": {},
   "source": [
    "Construya un array que contenga las imágenes mediante f de los puntos anteriores."
   ]
  },
  {
   "cell_type": "code",
   "execution_count": 4,
   "id": "9702381b",
   "metadata": {},
   "outputs": [],
   "source": [
    "def f(x):\n",
    "    return 1/(1+x**2)"
   ]
  },
  {
   "cell_type": "code",
   "execution_count": 5,
   "id": "2d51da92",
   "metadata": {},
   "outputs": [
    {
     "data": {
      "text/plain": [
       "array([0.03846154, 0.08256881, 0.26470588, 1.        , 0.26470588,\n",
       "       0.08256881])"
      ]
     },
     "execution_count": 5,
     "metadata": {},
     "output_type": "execute_result"
    }
   ],
   "source": [
    "y=f(x)\n",
    "y"
   ]
  },
  {
   "cell_type": "markdown",
   "id": "aa2b4276",
   "metadata": {},
   "source": [
    "Construya una función en Python que a partir de los arrays anteriores calcule la tabla de diferencias divididas. Dicha función debe devolver sólo los coeficientes del polinomio de interpolación en su forma de Newton."
   ]
  },
  {
   "cell_type": "code",
   "execution_count": 115,
   "id": "5eb1a5b1",
   "metadata": {},
   "outputs": [],
   "source": [
    "def TablaDifDiv (x,y):\n",
    "    n = np.size(x)\n",
    "    A = np.zeros([n,n+1])\n",
    "    coef=np.zeros(n)\n",
    "    \n",
    "    for i in range (n):\n",
    "        A[i,0] = x[i]\n",
    "        A[i,1] = y[i]\n",
    "        \n",
    "    for k in range (2,n+1):\n",
    "        for j in range (k-1,n):\n",
    "            A[j,k]=(A[j,k-1]-A[j-1,k-1])/(x[j]-x[j-k+1])\n",
    "\n",
    "    for q in range(n):\n",
    "        coef[q] = A[q,q+1]\n",
    "        \n",
    "    return coef"
   ]
  },
  {
   "cell_type": "markdown",
   "id": "7bcc7ad0",
   "metadata": {},
   "source": [
    "Construya una función en Python que a partir del array de puntos y del array de coeficientes proporcione el valor del polinomio interpolación de Newton en un punto x."
   ]
  },
  {
   "cell_type": "code",
   "execution_count": 116,
   "id": "31f398b9",
   "metadata": {},
   "outputs": [],
   "source": [
    "def InterpolaNewton(pto,x,coef):\n",
    "    n=np.size(x)\n",
    "    suma=0\n",
    "    for i in range (n):\n",
    "        sumando=coef[i]\n",
    "        for j in range (i):\n",
    "            sumando*=(pto-x[j])\n",
    "        suma+=sumando\n",
    "    return suma\n",
    "     "
   ]
  },
  {
   "cell_type": "markdown",
   "id": "749f57a6",
   "metadata": {},
   "source": [
    "Utilice la función anterior para construir la gráfica pedida."
   ]
  },
  {
   "cell_type": "code",
   "execution_count": 135,
   "id": "4ac80db4",
   "metadata": {},
   "outputs": [
    {
     "data": {
      "text/plain": [
       "(-6.0, 6.0)"
      ]
     },
     "execution_count": 135,
     "metadata": {},
     "output_type": "execute_result"
    },
    {
     "data": {
      "image/png": "[encoded data removed]",
      "text/plain": [
       "<Figure size 432x288 with 1 Axes>"
      ]
     },
     "metadata": {
      "needs_background": "light"
     },
     "output_type": "display_data"
    }
   ],
   "source": [
    "plt.title(\"Fenómeno de Runge\")\n",
    "# Función original \"f(x)\"\n",
    "n=100\n",
    "xd=np.linspace(-5,5,n)\n",
    "plt.plot(xd,f(xd),'r',label=\"f(x)\")\n",
    "\n",
    "# Polinomio \"p6\"\n",
    "n=7\n",
    "xs=np.linspace(-5,5,n)\n",
    "ys=f(xs)\n",
    "coef=TablaDifDiv(xs,ys)\n",
    "\n",
    "for i in range(100):\n",
    "    yd[i]=InterpolaNewton(xd[i],xs,coef)\n",
    "plt.plot(xd,yd,'b',label=\"p6\")\n",
    "\n",
    "# Polinomio \"p14\"\n",
    "n=15\n",
    "xs=np.linspace(-5,5,n)\n",
    "ys=f(xs)\n",
    "coef=TablaDifDiv(xs,ys)\n",
    "\n",
    "for i in range(100):\n",
    "    yd[i]=InterpolaNewton(xd[i],xs,coef)\n",
    "plt.plot(xd,yd,'g',label=\"p14\")\n",
    "plt.ylim(-1,2)\n",
    "plt.xlim(-6,6)"
   ]
  }
 ],
 "metadata": {
  "kernelspec": {
   "display_name": "Python 3 (ipykernel)",
   "language": "python",
   "name": "python3"
  },
  "language_info": {
   "codemirror_mode": {
    "name": "ipython",
    "version": 3
   },
   "file_extension": ".py",
   "mimetype": "text/x-python",
   "name": "python",
   "nbconvert_exporter": "python",
   "pygments_lexer": "ipython3",
   "version": "3.9.7"
  }
 },
 "nbformat": 4,
 "nbformat_minor": 5
}
