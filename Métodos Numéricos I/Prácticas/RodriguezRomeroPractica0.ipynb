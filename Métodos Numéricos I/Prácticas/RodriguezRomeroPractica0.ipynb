{
 "cells": [
  {
   "cell_type": "markdown",
   "id": "fc612140",
   "metadata": {},
   "source": [
    "**Ejercicio:** Escribe un pequeño programa que calcule el máximo entre 4 números que debe introducir el usuario."
   ]
  },
  {
   "cell_type": "code",
   "execution_count": 1,
   "id": "eb29dffc",
   "metadata": {
    "scrolled": true
   },
   "outputs": [
    {
     "name": "stdout",
     "output_type": "stream",
     "text": [
      "Introduzca el valor 1 :\n",
      "1\n",
      "Introduzca el valor 2 :\n",
      "2\n",
      "Introduzca el valor 3 :\n",
      "3\n",
      "Introduzca el valor 4 :\n",
      "4\n",
      "El número mayor será 4\n"
     ]
    }
   ],
   "source": [
    "lista = [] # inicialización de una lista vacía\n",
    "i = 0;\n",
    "while i < 4:\n",
    "    print('Introduzca el valor',i+1,':')\n",
    "    lista.append(input())\n",
    "    i+=1\n",
    "\n",
    "max = lista[0]\n",
    "i = 0\n",
    "while i < 4:\n",
    "    if max < lista[i]:\n",
    "        max = lista[i]\n",
    "    i+=1\n",
    "\n",
    "print('El número mayor será ' + max)\n"
   ]
  },
  {
   "cell_type": "markdown",
   "id": "d2d61bec",
   "metadata": {},
   "source": [
    "**Ejercicio:** \n",
    "\n",
    "- Crea un array de `Numpy` de 10 filas y 9 columnas de manera que el elemento $(i,j)$ sea  $\\frac{1}{i+j-1}$ para $1\\le i\\le 10$ y $1\\le j\\le 9$. Ten en cuenta que las filas y columnas se numeran a partir de 1 pero en Python la numeración empieza en 0. El primer elemento del array debe ser 1.\n",
    "\n",
    "- Crea ahora un array $B$ de números aleatorios entre 0 y 3 de tamaño $5\\times 5$. Calcula $B^{8}$."
   ]
  },
  {
   "cell_type": "code",
   "execution_count": 2,
   "id": "cc7ce298",
   "metadata": {},
   "outputs": [
    {
     "data": {
      "text/plain": [
       "array([[1.        , 0.5       , 0.33333333, 0.25      , 0.2       ,\n",
       "        0.16666667, 0.14285714, 0.125     , 0.11111111],\n",
       "       [0.5       , 0.33333333, 0.25      , 0.2       , 0.16666667,\n",
       "        0.14285714, 0.125     , 0.11111111, 0.1       ],\n",
       "       [0.33333333, 0.25      , 0.2       , 0.16666667, 0.14285714,\n",
       "        0.125     , 0.11111111, 0.1       , 0.09090909],\n",
       "       [0.25      , 0.2       , 0.16666667, 0.14285714, 0.125     ,\n",
       "        0.11111111, 0.1       , 0.09090909, 0.08333333],\n",
       "       [0.2       , 0.16666667, 0.14285714, 0.125     , 0.11111111,\n",
       "        0.1       , 0.09090909, 0.08333333, 0.07692308],\n",
       "       [0.16666667, 0.14285714, 0.125     , 0.11111111, 0.1       ,\n",
       "        0.09090909, 0.08333333, 0.07692308, 0.07142857],\n",
       "       [0.14285714, 0.125     , 0.11111111, 0.1       , 0.09090909,\n",
       "        0.08333333, 0.07692308, 0.07142857, 0.06666667],\n",
       "       [0.125     , 0.11111111, 0.1       , 0.09090909, 0.08333333,\n",
       "        0.07692308, 0.07142857, 0.06666667, 0.0625    ],\n",
       "       [0.11111111, 0.1       , 0.09090909, 0.08333333, 0.07692308,\n",
       "        0.07142857, 0.06666667, 0.0625    , 0.05882353],\n",
       "       [0.1       , 0.09090909, 0.08333333, 0.07692308, 0.07142857,\n",
       "        0.06666667, 0.0625    , 0.05882353, 0.05555556]])"
      ]
     },
     "execution_count": 2,
     "metadata": {},
     "output_type": "execute_result"
    }
   ],
   "source": [
    "import numpy as np\n",
    "matriz = np.array([[1/(i+j-1) for j in range(1,10)]for i in range(1,11)])\n",
    "matriz"
   ]
  },
  {
   "cell_type": "code",
   "execution_count": 3,
   "id": "3a3c5b95",
   "metadata": {},
   "outputs": [
    {
     "data": {
      "text/plain": [
       "array([[2897543.00597667, 2377701.99803585, 1660744.17822557,\n",
       "        1393787.51817724, 2160471.98865447],\n",
       "       [3021637.95442877, 2479513.8941919 , 1731856.27768367,\n",
       "        1453463.65612275, 2252992.42294123],\n",
       "       [3344932.64575079, 2744819.23251862, 1917154.5228445 ,\n",
       "        1608984.44408151, 2494038.64856054],\n",
       "       [2708390.85501868, 2222489.28131719, 1552328.47232503,\n",
       "        1302792.98804959, 2019431.57727375],\n",
       "       [1863412.87145943, 1529094.00836294, 1068025.89985888,\n",
       "         896345.01039186, 1389386.92059016]])"
      ]
     },
     "execution_count": 3,
     "metadata": {},
     "output_type": "execute_result"
    }
   ],
   "source": [
    "B = np.random.rand(5,5)\n",
    "B*=3  # Para que los valores se encuentre entre 0 (0*3) y 3 (3*1)\n",
    "np.linalg.matrix_power(B,8)"
   ]
  }
 ],
 "metadata": {
  "kernelspec": {
   "display_name": "Python 3 (ipykernel)",
   "language": "python",
   "name": "python3"
  },
  "language_info": {
   "codemirror_mode": {
    "name": "ipython",
    "version": 3
   },
   "file_extension": ".py",
   "mimetype": "text/x-python",
   "name": "python",
   "nbconvert_exporter": "python",
   "pygments_lexer": "ipython3",
   "version": "3.9.7"
  }
 },
 "nbformat": 4,
 "nbformat_minor": 5
}
